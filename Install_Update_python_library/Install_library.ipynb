{
 "cells": [
  {
   "cell_type": "code",
   "execution_count": 1,
   "metadata": {},
   "outputs": [
    {
     "name": "stderr",
     "output_type": "stream",
     "text": [
      "C:\\Users\\aariz\\AppData\\Local\\Temp\\ipykernel_6964\\1166483971.py:2: DeprecationWarning: pkg_resources is deprecated as an API. See https://setuptools.pypa.io/en/latest/pkg_resources.html\n",
      "  import pkg_resources\n"
     ]
    }
   ],
   "source": [
    "import subprocess\n",
    "import pkg_resources\n",
    "from concurrent.futures import ThreadPoolExecutor"
   ]
  },
  {
   "cell_type": "code",
   "execution_count": 2,
   "metadata": {},
   "outputs": [],
   "source": [
    "failed_packages = []\n",
    "path = 'requirements.txt'\n",
    "\n",
    "def get_installed_packages():\n",
    "    \"\"\"\n",
    "        Returns a dictionary of installed Python libraries and their versions.\n",
    "\n",
    "        Uses `pip freeze` to list installed packages and their versions.\n",
    "\n",
    "        Returns:\n",
    "            dict: A dictionary with package names as keys and versions as values.\n",
    "    \"\"\"\n",
    "    installed = {}\n",
    "    try:\n",
    "        output = subprocess.run(\n",
    "            # stdout=subprocess.PIPE captures standard output\n",
    "            # stdout=subprocess.PIPE captures standard error \n",
    "            ['pip', 'freeze'], stdout=subprocess.PIPE, stderr=subprocess.PIPE\n",
    "        )\n",
    "        lines = output.stdout.decode().splitlines()   # decodes the captured standard output from the bytes to a string into a list of line\n",
    "        for line in lines:\n",
    "            if '==' in line:\n",
    "                name, version = line.split('==')\n",
    "                installed[name.lower()] = version   # package : version -> in dict\n",
    "    except Exception as e:\n",
    "        print(f\"Error fetching installed package {e}\")\n",
    "    return installed"
   ]
  },
  {
   "cell_type": "code",
   "execution_count": 3,
   "metadata": {},
   "outputs": [],
   "source": [
    "def needs_update(package, installed_packages):\n",
    "    \"\"\"\n",
    "    Checks if a package needs to be installed or updated.\n",
    "\n",
    "    Args:\n",
    "        package (str): The package to check, optionally with a specific version.\n",
    "        installed_packages (dict): A dictionary of installed packages with their versions.\n",
    "\n",
    "    Returns:\n",
    "        bool: True if the package needs to be installed or updated, False otherwise.\n",
    "    \"\"\"\n",
    "    package_name = package.split('==')[0].strip().lower()\n",
    "    if package_name not in installed_packages:\n",
    "        return True\n",
    "    if '==' in package:\n",
    "        required_version = package.split('==')[1].strip()\n",
    "        return installed_packages[package_name] != required_version  # if the current version does not match the latest version then return true \n",
    "    return False  # package in installed but no specific version is required"
   ]
  },
  {
   "cell_type": "code",
   "execution_count": 4,
   "metadata": {},
   "outputs": [],
   "source": [
    "def install_package(package):\n",
    "    \"\"\"\n",
    "    Installs or upgrades a package to the latest version.\n",
    "\n",
    "    Args:\n",
    "        package (str): The package to install or upgrade.\n",
    "\n",
    "    Returns:\n",
    "        bool: True if the installation or upgrade was successful, False otherwise.\n",
    "    \"\"\"\n",
    "    try:\n",
    "        subprocess.run(\n",
    "            ['pip', 'install', '-U', package],\n",
    "            check=True,\n",
    "            stdout=subprocess.PIPE,\n",
    "            stderr=subprocess.PIPE\n",
    "        )\n",
    "        print(f'Successfully installed or upgraded {package}')   # the above line has -U so automatic updates\n",
    "        return True\n",
    "    except subprocess.CalledProcessError as e:  # this line catches errors specifically related to the subprocess.run call failing (eg if pip install command fails) assigning the exception to the variable e\n",
    "        print(f'Failed to install {package} : {e.stderr.decode()}')\n",
    "        failed_packages.append(package)\n",
    "        return False"
   ]
  },
  {
   "cell_type": "code",
   "execution_count": 5,
   "metadata": {},
   "outputs": [],
   "source": [
    "def main():\n",
    "    installed_packages = get_installed_packages()                     # getting all the packages that have already been installed \n",
    "    print('---')\n",
    "    print(f'Installed packages : {len(installed_packages)}')\n",
    "    \n",
    "    try:\n",
    "        with open(path, 'r') as file:\n",
    "            package = [line.strip() for line in file if line.strip()] # making sure that only package names are only in the list emply lines are also taken care of \n",
    "    except FileNotFoundError:\n",
    "        print(f\"Error: {path} not found\")\n",
    "        package = []\n",
    "                \n",
    "    all_packages = set(package + list(installed_packages.keys()))     # All the package we want to install and the current packages in the local system will be upto date with the lates version\n",
    "        \n",
    "    print(f\"All packages to process: {sorted(all_packages)}\")\n",
    "        \n",
    "    with ThreadPoolExecutor(max_workers=4) as executor:\n",
    "        results = list(executor.map(install_package, all_packages))\n",
    "        \n",
    "    if failed_packages:\n",
    "        print('\\nThe following package failed to install')\n",
    "        for pkg in failed_packages:\n",
    "            print(f'- {pkg}')\n",
    "    else:\n",
    "        print('\\nAll packages installed successfully')"
   ]
  },
  {
   "cell_type": "code",
   "execution_count": 7,
   "metadata": {},
   "outputs": [],
   "source": [
    "main()"
   ]
  }
 ],
 "metadata": {
  "kernelspec": {
   "display_name": "Python 3",
   "language": "python",
   "name": "python3"
  },
  "language_info": {
   "codemirror_mode": {
    "name": "ipython",
    "version": 3
   },
   "file_extension": ".py",
   "mimetype": "text/x-python",
   "name": "python",
   "nbconvert_exporter": "python",
   "pygments_lexer": "ipython3",
   "version": "3.13.1"
  }
 },
 "nbformat": 4,
 "nbformat_minor": 2
}
