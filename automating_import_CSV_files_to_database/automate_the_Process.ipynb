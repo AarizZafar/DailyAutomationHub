{
 "cells": [
  {
   "cell_type": "code",
   "execution_count": 4,
   "metadata": {},
   "outputs": [],
   "source": [
    "import pandas as pd\n",
    "import numpy as np \n",
    "import os \n",
    "import psycopg2\n",
    "import shutil"
   ]
  },
  {
   "cell_type": "code",
   "execution_count": 5,
   "metadata": {},
   "outputs": [],
   "source": [
    "# Find csv files in the directory\n",
    "# isolating the csv file\n",
    "csv_file = []\n",
    "\n",
    "for file in os.listdir(os.path.join(os.getcwd(), 'datasets')):\n",
    "    if file.endswith('.csv'):\n",
    "        csv_file.append(file)"
   ]
  },
  {
   "cell_type": "code",
   "execution_count": 6,
   "metadata": {},
   "outputs": [
    {
     "name": "stdout",
     "output_type": "stream",
     "text": [
      "Moved Customer Contracts$.csv to c:\\Users\\aariz\\codes\\snippetCollection\\python\\Automate_daily_task\\automating_import_CSV_files_to_database\\csv_ds\n",
      "Moved Customer Demo.csv to c:\\Users\\aariz\\codes\\snippetCollection\\python\\Automate_daily_task\\automating_import_CSV_files_to_database\\csv_ds\n",
      "Moved Customer Engagements.csv to c:\\Users\\aariz\\codes\\snippetCollection\\python\\Automate_daily_task\\automating_import_CSV_files_to_database\\csv_ds\n"
     ]
    }
   ],
   "source": [
    "csv_ds_path = os.path.join(os.getcwd(), 'csv_ds')\n",
    "if not os.path.isdir(csv_ds_path):\n",
    "    os.mkdir(csv_ds_path)\n",
    "\n",
    "for csv in csv_file:\n",
    "    src = os.path.join(os.getcwd(), 'datasets', csv)\n",
    "    dst = os.path.join(csv_ds_path, csv)\n",
    "    shutil.copy(src, dst)\n",
    "    print(f'Moved {csv} to {csv_ds_path}')"
   ]
  },
  {
   "cell_type": "markdown",
   "metadata": {},
   "source": [
    "#### Create the pandas df from the csv file"
   ]
  },
  {
   "cell_type": "code",
   "execution_count": 76,
   "metadata": {},
   "outputs": [],
   "source": [
    "data_path = os.path.join(os.getcwd(), 'csv_ds')\n",
    "\n",
    "df = {}\n",
    "\n",
    "for file in csv_file:\n",
    "    try:\n",
    "        df[file] = pd.read_csv(os.path.join(data_path, file))\n",
    "    except UnicodeDecodeError:\n",
    "        # encoding='ISO-8859-1', you are telling pandas to use the ISO-8859-1 encoding to read the file, \n",
    "        # which can handle a different set of characters\n",
    "        df[file] = pd.read_csv(os.path.join(data_path, file), encoding='ISO-8859-1')"
   ]
  },
  {
   "cell_type": "code",
   "execution_count": 77,
   "metadata": {},
   "outputs": [
    {
     "name": "stdout",
     "output_type": "stream",
     "text": [
      "Opened Database successfully\n",
      "customer_contracts was created successfully \n",
      "file opened in memory\n",
      "file copied to the db\n",
      "table customer_contracts imported to db completed\n",
      "Opened Database successfully\n",
      "customer_demo was created successfully \n",
      "file opened in memory\n",
      "file copied to the db\n",
      "table customer_demo imported to db completed\n",
      "Opened Database successfully\n",
      "customer_engagements was created successfully \n",
      "file opened in memory\n",
      "file copied to the db\n",
      "table customer_engagements imported to db completed\n",
      "Opened Database successfully\n",
      "customer_contracts was created successfully \n",
      "file opened in memory\n",
      "file copied to the db\n",
      "table customer_contracts imported to db completed\n",
      "all tables has been successfully been imported to the db\n"
     ]
    }
   ],
   "source": [
    "for k in csv_file:\n",
    "    dataframe = df[k]\n",
    "    \n",
    "    clean_tbl_name = k.lower().replace(' ', '_').replace('?', '') \\\n",
    "                             .replace('-', '_').replace(r'/', '_').replace('\\\\', '_').replace('%', '') \\\n",
    "                             .replace(')', '').replace(r'(', '').replace('$', '')\n",
    "    # remove the .csv extension \n",
    "    \n",
    "    tbl_name = '{0}'.format(clean_tbl_name.split('.')[0])\n",
    "    # print(tbl_name)\n",
    "    dataframe.columns = [x.lower().replace(' ', '_').replace('?', '') \\\n",
    "                             .replace('-', '_').replace(r'/', '_').replace('\\\\', '_').replace('%', '') \\\n",
    "                             .replace(')', '').replace(r'(', '').replace('$', '') for x in dataframe.columns]\n",
    "    \n",
    "    # replacemet dictionary that maps pandas dtypes to sql dtypes\n",
    "    replacements = {\n",
    "    'object'          : 'varchar',\n",
    "    'float64'         : 'float',\n",
    "    'int64'           : 'int',\n",
    "    'datetime64'      : 'timestamp',\n",
    "    'timedelta64[ns]' : 'varchar'\n",
    "    }\n",
    "\n",
    "    # table schema\n",
    "    col_str = ', '.join('{} {}'.format(n, d) for (n, d) in zip(dataframe.columns, dataframe.dtypes.replace(replacements)))\n",
    "    \n",
    "    try:\n",
    "        conn = psycopg2.connect(user=\"aariz\", password=\"2Atrium@cortex#8\", host=\"dbserverpg.postgres.database.azure.com\", port=5432, database=\"postgres\")\n",
    "        cursor = conn.cursor()\n",
    "        print('Opened Database successfully')\n",
    "    except psycopg2.OperationalError as e:  \n",
    "        print(f\"Error: {e}\")\n",
    "        \n",
    "    cursor.execute('DROP TABLE IF EXISTS {};'.format(tbl_name))\n",
    "    \n",
    "    # creating table\n",
    "    cursor.execute('CREATE TABLE {} ({});'.format(tbl_name, col_str))\n",
    "    print('{0} was created successfully '.format(tbl_name))\n",
    "    \n",
    "    # insert values to the table\n",
    "\n",
    "    # save df to csv\n",
    "    dataframe.to_csv(k, header=dataframe.columns, index=False, encoding='utf-8')\n",
    "\n",
    "    # we are opening the df in our ram as a Object \n",
    "    my_file = open(k)\n",
    "    print('file opened in memory')\n",
    "        \n",
    "    SQL_STATEMENT = '''\n",
    "    COPY %s FROM STDIN WITH \n",
    "        CSV \n",
    "        HEADER \n",
    "        DELIMITER AS ','\n",
    "    '''\n",
    "\n",
    "    cursor.copy_expert(sql=SQL_STATEMENT % tbl_name ,file=my_file)\n",
    "    print('file copied to the db')\n",
    "    \n",
    "    cursor.execute('grant select on table %s to public' % tbl_name)\n",
    "    conn.commit()\n",
    "    conn.close()\n",
    "    print('table {0} imported to db completed'.format(tbl_name))\n",
    "    \n",
    "print('all tables has been successfully been imported to the db')"
   ]
  },
  {
   "cell_type": "code",
   "execution_count": 78,
   "metadata": {},
   "outputs": [
    {
     "name": "stdout",
     "output_type": "stream",
     "text": [
      "Databases:\n",
      "- azure_maintenance\n",
      "- template1\n",
      "- postgres\n",
      "- azure_sys\n",
      "- template0\n"
     ]
    }
   ],
   "source": [
    "# Ensure the connection is open\n",
    "if conn.closed:\n",
    "    conn = psycopg2.connect(user=\"*****\", password=\"**********\", host=\"dbserverpg.postgres.database.azure.com\", port=5432, database=\"postgres\")\n",
    "\n",
    "# Create a new cursor\n",
    "cursor = conn.cursor()\n",
    "\n",
    "cursor.execute(\"SELECT datname FROM pg_database;\")\n",
    "databases = cursor.fetchall()\n",
    "print(\"Databases:\")\n",
    "for db in databases:\n",
    "    print(f\"- {db[0]}\")"
   ]
  },
  {
   "cell_type": "code",
   "execution_count": 79,
   "metadata": {},
   "outputs": [
    {
     "name": "stdout",
     "output_type": "stream",
     "text": [
      "customer_demo\n",
      "customer_engagements\n",
      "customer_contracts\n"
     ]
    }
   ],
   "source": [
    "cursor.execute(\"\"\"\n",
    "    SELECT table_name \n",
    "    FROM information_schema.tables \n",
    "    WHERE table_schema = 'public';\n",
    "\"\"\")\n",
    "tables = cursor.fetchall()\n",
    "\n",
    "for table in tables:\n",
    "    print(table[0])"
   ]
  },
  {
   "cell_type": "code",
   "execution_count": 80,
   "metadata": {},
   "outputs": [],
   "source": [
    "cursor.close()"
   ]
  }
 ],
 "metadata": {
  "kernelspec": {
   "display_name": "Python 3",
   "language": "python",
   "name": "python3"
  },
  "language_info": {
   "codemirror_mode": {
    "name": "ipython",
    "version": 3
   },
   "file_extension": ".py",
   "mimetype": "text/x-python",
   "name": "python",
   "nbconvert_exporter": "python",
   "pygments_lexer": "ipython3",
   "version": "3.13.1"
  }
 },
 "nbformat": 4,
 "nbformat_minor": 2
}
