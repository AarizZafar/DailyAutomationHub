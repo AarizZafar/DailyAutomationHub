{
 "cells": [
  {
   "cell_type": "code",
   "execution_count": 4,
   "metadata": {},
   "outputs": [],
   "source": [
    "import time\n",
    "import requests\n",
    "from concurrent.futures import ThreadPoolExecutor"
   ]
  },
  {
   "cell_type": "markdown",
   "metadata": {},
   "source": [
    "#### Sequential Programming"
   ]
  },
  {
   "cell_type": "markdown",
   "metadata": {},
   "source": [
    "```plaintext\n",
    "+-------------------+     +-------------------+     +-------------------+\n",
    "| Fetch URL 1       | --> | Fetch URL 2       | --> | Fetch URL 3       |\n",
    "+-------------------+     +-------------------+     +-------------------+\n",
    "```"
   ]
  },
  {
   "cell_type": "code",
   "execution_count": 6,
   "metadata": {},
   "outputs": [
    {
     "name": "stdout",
     "output_type": "stream",
     "text": [
      "fetching https://jsonplaceholder.typicode.com/posts/1..\n",
      "fetching https://jsonplaceholder.typicode.com/posts/2..\n",
      "fetching https://jsonplaceholder.typicode.com/posts/3..\n",
      "Sequency execution time : 1.87 seconds\n"
     ]
    }
   ],
   "source": [
    "urls = [\n",
    "    \"https://jsonplaceholder.typicode.com/posts/1\",\n",
    "    \"https://jsonplaceholder.typicode.com/posts/2\",\n",
    "    \"https://jsonplaceholder.typicode.com/posts/3\"\n",
    "]\n",
    "\n",
    "def fetch_contetn(url):\n",
    "    print(f'fetching {url}..')\n",
    "    response = requests.get(url)\n",
    "    \n",
    "    return response.text\n",
    "\n",
    "start_time = time.time()\n",
    "\n",
    "result = []\n",
    "for url in urls:\n",
    "    result.append(fetch_contetn(url))\n",
    "    \n",
    "end_time = time.time()\n",
    "\n",
    "print(f'Sequency execution time : {end_time - start_time:.2f} seconds')\n"
   ]
  },
  {
   "cell_type": "markdown",
   "metadata": {},
   "source": [
    "#### ThreadPoolExecutor"
   ]
  },
  {
   "cell_type": "markdown",
   "metadata": {},
   "source": [
    "```plaintext\n",
    "+-------------------+     +-------------------+     +-------------------+\n",
    "| Fetch URL 1       |     | Fetch URL 2       |     | Fetch URL 3       |\n",
    "+-------------------+     +-------------------+     +-------------------+\n",
    "        |                      |                      |\n",
    "        +----------+-----------+-----------+----------+\n",
    "                   |                       |\n",
    "                   v                       v\n",
    "              Concurrent Execution\n",
    "\n",
    "```"
   ]
  },
  {
   "cell_type": "code",
   "execution_count": 7,
   "metadata": {},
   "outputs": [
    {
     "name": "stdout",
     "output_type": "stream",
     "text": [
      "fetching https://jsonplaceholder.typicode.com/posts/1..\n",
      "fetching https://jsonplaceholder.typicode.com/posts/2..\n",
      "fetching https://jsonplaceholder.typicode.com/posts/3..\n",
      "Sequency execution time : 0.83 seconds\n"
     ]
    }
   ],
   "source": [
    "urls = [\n",
    "    \"https://jsonplaceholder.typicode.com/posts/1\",\n",
    "    \"https://jsonplaceholder.typicode.com/posts/2\",\n",
    "    \"https://jsonplaceholder.typicode.com/posts/3\"\n",
    "]\n",
    "\n",
    "def fetch_contetn(url):\n",
    "    print(f'fetching {url}..')\n",
    "    response = requests.get(url)\n",
    "    return response.text\n",
    "\n",
    "start_time = time.time()\n",
    "\n",
    "with ThreadPoolExecutor(max_workers=3) as executor:\n",
    "    results = list(executor.map(fetch_contetn, urls))\n",
    "    \n",
    "end_time = time.time()\n",
    "\n",
    "print(f'Sequency execution time : {end_time - start_time:.2f} seconds')\n"
   ]
  }
 ],
 "metadata": {
  "kernelspec": {
   "display_name": "Python 3",
   "language": "python",
   "name": "python3"
  },
  "language_info": {
   "codemirror_mode": {
    "name": "ipython",
    "version": 3
   },
   "file_extension": ".py",
   "mimetype": "text/x-python",
   "name": "python",
   "nbconvert_exporter": "python",
   "pygments_lexer": "ipython3",
   "version": "3.13.1"
  }
 },
 "nbformat": 4,
 "nbformat_minor": 2
}
