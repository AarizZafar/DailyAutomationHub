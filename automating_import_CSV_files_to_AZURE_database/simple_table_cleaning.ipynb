{
 "cells": [
  {
   "cell_type": "markdown",
   "metadata": {},
   "source": [
    "#### Steps\n",
    "```plaintext\n",
    "- Import the csv file into pandas df\n",
    "- clean the table name and remove all extra symbols, spaces, capital letters\n",
    "- clean the column header and remove all extra symbols, spaces, capital letters \n",
    "- write the create table SQL statement\n",
    "- Import the data into the database"
   ]
  },
  {
   "cell_type": "code",
   "execution_count": 85,
   "metadata": {},
   "outputs": [],
   "source": [
    "import pandas as pd\n",
    "import numpy as np \n",
    "import os \n",
    "import psycopg2"
   ]
  },
  {
   "cell_type": "code",
   "execution_count": 86,
   "metadata": {},
   "outputs": [
    {
     "data": {
      "text/html": [
       "<div>\n",
       "<style scoped>\n",
       "    .dataframe tbody tr th:only-of-type {\n",
       "        vertical-align: middle;\n",
       "    }\n",
       "\n",
       "    .dataframe tbody tr th {\n",
       "        vertical-align: top;\n",
       "    }\n",
       "\n",
       "    .dataframe thead th {\n",
       "        text-align: right;\n",
       "    }\n",
       "</style>\n",
       "<table border=\"1\" class=\"dataframe\">\n",
       "  <thead>\n",
       "    <tr style=\"text-align: right;\">\n",
       "      <th></th>\n",
       "      <th>customer Name</th>\n",
       "      <th>start date</th>\n",
       "      <th>end date</th>\n",
       "      <th>contract amount ($M)</th>\n",
       "      <th>invoice sent</th>\n",
       "      <th>Paid?</th>\n",
       "    </tr>\n",
       "  </thead>\n",
       "  <tbody>\n",
       "    <tr>\n",
       "      <th>0</th>\n",
       "      <td>Nike</td>\n",
       "      <td>01-02-2019</td>\n",
       "      <td>12-20-2020</td>\n",
       "      <td>2.98</td>\n",
       "      <td>Yes</td>\n",
       "      <td>Yes</td>\n",
       "    </tr>\n",
       "    <tr>\n",
       "      <th>1</th>\n",
       "      <td>Reebox</td>\n",
       "      <td>06-20-2017</td>\n",
       "      <td>NaN</td>\n",
       "      <td>3.90</td>\n",
       "      <td>No</td>\n",
       "      <td>No</td>\n",
       "    </tr>\n",
       "    <tr>\n",
       "      <th>2</th>\n",
       "      <td>Adidas</td>\n",
       "      <td>12-07-2015</td>\n",
       "      <td>6-20-2018</td>\n",
       "      <td>4.82</td>\n",
       "      <td>Yes</td>\n",
       "      <td>Yes</td>\n",
       "    </tr>\n",
       "    <tr>\n",
       "      <th>3</th>\n",
       "      <td>Google</td>\n",
       "      <td>05-25-2014</td>\n",
       "      <td>03-20-2017</td>\n",
       "      <td>5.74</td>\n",
       "      <td>Yes</td>\n",
       "      <td>No</td>\n",
       "    </tr>\n",
       "    <tr>\n",
       "      <th>4</th>\n",
       "      <td>Amazon</td>\n",
       "      <td>11-10-2012</td>\n",
       "      <td>12-20-2015</td>\n",
       "      <td>6.66</td>\n",
       "      <td>No</td>\n",
       "      <td>Yes</td>\n",
       "    </tr>\n",
       "  </tbody>\n",
       "</table>\n",
       "</div>"
      ],
      "text/plain": [
       "  customer Name  start date    end date  contract amount ($M) invoice sent  \\\n",
       "0          Nike  01-02-2019  12-20-2020                  2.98          Yes   \n",
       "1        Reebox  06-20-2017         NaN                  3.90           No   \n",
       "2        Adidas  12-07-2015   6-20-2018                  4.82          Yes   \n",
       "3        Google  05-25-2014  03-20-2017                  5.74          Yes   \n",
       "4        Amazon  11-10-2012  12-20-2015                  6.66           No   \n",
       "\n",
       "  Paid?  \n",
       "0   Yes  \n",
       "1    No  \n",
       "2   Yes  \n",
       "3    No  \n",
       "4   Yes  "
      ]
     },
     "execution_count": 86,
     "metadata": {},
     "output_type": "execute_result"
    }
   ],
   "source": [
    "ds = pd.read_csv('datasets/Customer Contracts$.csv')\n",
    "ds.head()"
   ]
  },
  {
   "cell_type": "markdown",
   "metadata": {},
   "source": [
    "#### clear the table names\n",
    "\n",
    "```plaintext\n",
    "lower case letters\n",
    "remove all the white spaces and $ \n",
    "replace -, /, \\\\, with _ "
   ]
  },
  {
   "cell_type": "code",
   "execution_count": 87,
   "metadata": {},
   "outputs": [
    {
     "name": "stdout",
     "output_type": "stream",
     "text": [
      "customer_contracts\n"
     ]
    }
   ],
   "source": [
    "file = 'Customer Contracts$'\n",
    "\n",
    "clean_tbl_name = file.lower().replace(' ', '_').replace('?', '') \\\n",
    "                             .replace('-', '_').replace(r'/', '_').replace('\\\\', '_').replace('%', '') \\\n",
    "                             .replace(')', '').replace(r'(', '').replace('$', '')\n",
    "                             \n",
    "print(clean_tbl_name)"
   ]
  },
  {
   "cell_type": "code",
   "execution_count": 88,
   "metadata": {},
   "outputs": [
    {
     "data": {
      "text/plain": [
       "Index(['customer_name', 'start_date', 'end_date', 'contract_amount_m',\n",
       "       'invoice_sent', 'paid'],\n",
       "      dtype='object')"
      ]
     },
     "execution_count": 88,
     "metadata": {},
     "output_type": "execute_result"
    }
   ],
   "source": [
    "ds.columns = [x.lower().replace(' ', '_').replace('?', '') \\\n",
    "                             .replace('-', '_').replace(r'/', '_').replace('\\\\', '_').replace('%', '') \\\n",
    "                             .replace(')', '').replace(r'(', '').replace('$', '') for x in ds.columns]\n",
    "ds.columns"
   ]
  },
  {
   "cell_type": "markdown",
   "metadata": {},
   "source": [
    "SQL statement to create the table\n",
    "\n",
    "```plaintext\n",
    "create table customer_contract \n",
    "(\n",
    "    customer_name       varchar\n",
    "    start_date          varchar\n",
    "    end_date            varchar\n",
    "    contract_amount_m   float\n",
    "    invoice_sent        varchar\n",
    "    paid                varchar\n",
    ");"
   ]
  },
  {
   "cell_type": "markdown",
   "metadata": {},
   "source": [
    "The above Dtypes of the table do not match the dtypes of the pandas dtypes hence we have to match them"
   ]
  },
  {
   "cell_type": "code",
   "execution_count": 89,
   "metadata": {},
   "outputs": [
    {
     "data": {
      "text/plain": [
       "'customer_name varchar, start_date varchar, end_date varchar, contract_amount_m float, invoice_sent varchar, paid varchar'"
      ]
     },
     "execution_count": 89,
     "metadata": {},
     "output_type": "execute_result"
    }
   ],
   "source": [
    "replacements = {\n",
    "    'object'          : 'varchar',\n",
    "    'float64'         : 'float',\n",
    "    'int64'           : 'int',\n",
    "    'datetime64'      : 'timestamp',\n",
    "    'timedelta64[ns]' : 'varchar'\n",
    "}\n",
    "\n",
    "col_str = ', '.join('{} {}'.format(n, d) for (n, d) in zip(ds.columns, ds.dtypes.replace(replacements)))\n",
    "col_str"
   ]
  },
  {
   "cell_type": "markdown",
   "metadata": {},
   "source": [
    "```plaintext\n",
    "Important to check - \n",
    "\n",
    "Go to settings and then to networking \n",
    "- Allow public access to this resource through the internet using a public IP address\n",
    "- Allow public access from any Azure service within Azure to this server\n",
    "- Add the rule - AllowAll 0.0.0.0 - 255.255.255.255"
   ]
  },
  {
   "cell_type": "markdown",
   "metadata": {},
   "source": [
    "```plaintext\n",
    "The below connection string can be obtained from - \n",
    "\n",
    "open the azure database\n",
    "1) left hand side click on settings click connect \n",
    "2) click connect from your app and select the python option"
   ]
  },
  {
   "cell_type": "code",
   "execution_count": 90,
   "metadata": {},
   "outputs": [
    {
     "name": "stdout",
     "output_type": "stream",
     "text": [
      "Opened Database successfully\n"
     ]
    }
   ],
   "source": [
    "try:\n",
    "    conn = psycopg2.connect(user=\"*****\", password=\"***********\", host=\"dbserverpg.postgres.database.azure.com\", port=5432, database=\"postgres\")\n",
    "    cursor = conn.cursor()\n",
    "    print('Opened Database successfully')\n",
    "except psycopg2.OperationalError as e:\n",
    "    print(f\"Error: {e}\")"
   ]
  },
  {
   "cell_type": "code",
   "execution_count": 91,
   "metadata": {},
   "outputs": [],
   "source": [
    "# dropping tables with same name\n",
    "cursor.execute('drop table if exists customer_contracts;')"
   ]
  },
  {
   "cell_type": "code",
   "execution_count": 92,
   "metadata": {},
   "outputs": [],
   "source": [
    "#creating table\n",
    "cursor.execute('create table customer_contracts \\\n",
    "               (customer_name varchar, start_date varchar, end_date varchar, contract_amount_m float, \\\n",
    "               invoice_sent varchar, paid varchar)')"
   ]
  },
  {
   "cell_type": "code",
   "execution_count": 93,
   "metadata": {},
   "outputs": [
    {
     "name": "stdout",
     "output_type": "stream",
     "text": [
      "file opened in memory\n"
     ]
    }
   ],
   "source": [
    "# insert values to the table\n",
    "\n",
    "# save df to csv\n",
    "ds.to_csv('datasets/customer_contracts.csv', header=ds.columns, index=False, encoding='utf-8')\n",
    "\n",
    "# we are opening the df in our ram as a Object \n",
    "my_file = open('datasets/customer_contracts.csv')\n",
    "print('file opened in memory')"
   ]
  },
  {
   "cell_type": "code",
   "execution_count": 94,
   "metadata": {},
   "outputs": [
    {
     "name": "stdout",
     "output_type": "stream",
     "text": [
      "file copied to the db\n"
     ]
    }
   ],
   "source": [
    "# upload the object to the database\n",
    "SQL_STATEMENT = '''\n",
    "COPY customer_contracts FROM STDIN WITH \n",
    "    CSV \n",
    "    HEADER \n",
    "    DELIMITER AS ','\n",
    "'''\n",
    "\n",
    "cursor.copy_expert(sql=SQL_STATEMENT, file=my_file)\n",
    "print('file copied to the db')"
   ]
  },
  {
   "cell_type": "code",
   "execution_count": 95,
   "metadata": {},
   "outputs": [
    {
     "name": "stdout",
     "output_type": "stream",
     "text": [
      "table customer_contract import to db completed\n"
     ]
    }
   ],
   "source": [
    "cursor.execute('grant select on table customer_contracts to public')\n",
    "conn.commit()\n",
    "\n",
    "print('table customer_contract import to db completed')"
   ]
  },
  {
   "cell_type": "markdown",
   "metadata": {},
   "source": [
    "---"
   ]
  },
  {
   "cell_type": "code",
   "execution_count": 96,
   "metadata": {},
   "outputs": [
    {
     "name": "stdout",
     "output_type": "stream",
     "text": [
      "Databases:\n",
      "- azure_maintenance\n",
      "- template1\n",
      "- postgres\n",
      "- azure_sys\n",
      "- template0\n"
     ]
    }
   ],
   "source": [
    "cursor.execute(\"SELECT datname FROM pg_database;\")\n",
    "databases = cursor.fetchall()\n",
    "print(\"Databases:\")\n",
    "for db in databases:\n",
    "    print(f\"- {db[0]}\")"
   ]
  },
  {
   "cell_type": "code",
   "execution_count": 97,
   "metadata": {},
   "outputs": [
    {
     "name": "stdout",
     "output_type": "stream",
     "text": [
      "customer_contracts\n"
     ]
    }
   ],
   "source": [
    "cursor.execute(\"\"\"\n",
    "    SELECT table_name \n",
    "    FROM information_schema.tables \n",
    "    WHERE table_schema = 'public';\n",
    "\"\"\")\n",
    "tables = cursor.fetchall()\n",
    "\n",
    "for table in tables:\n",
    "    print(table[0])"
   ]
  },
  {
   "cell_type": "code",
   "execution_count": 98,
   "metadata": {},
   "outputs": [
    {
     "name": "stdout",
     "output_type": "stream",
     "text": [
      "customer_name | start_date | end_date   | contract_amount_m | invoice_sent | paid\n",
      "---------------------------------------------------------------------------------\n",
      "Nike          | 01-02-2019 | 12-20-2020 | 2.98              | Yes          | Yes \n",
      "Reebox        | 06-20-2017 | None       | 3.9               | No           | No  \n",
      "Adidas        | 12-07-2015 | 6-20-2018  | 4.82              | Yes          | Yes \n",
      "Google        | 05-25-2014 | 03-20-2017 | 5.74              | Yes          | No  \n",
      "Amazon        | 11-10-2012 | 12-20-2015 | 6.66              | No           | Yes \n",
      "Facebook      | 04-29-2011 | None       | 7.58              | Yes          | No  \n",
      "Apple         | 10-15-2009 | None       | 8.5               | Yes          | Yes \n",
      "Airbnb        | 04-02-2008 | None       | 9.42              | No           | No  \n",
      "Nest          | 09-19-2006 | None       | 3.0               | Yes          | Yes \n",
      "Canon         | 03-07-2005 | 09-20-2009 | 11.26             | Yes          | No  \n"
     ]
    }
   ],
   "source": [
    "cursor.execute(\"SELECT * FROM customer_contracts;\")\n",
    "records = cursor.fetchall()\n",
    "\n",
    "columns = [desc[0] for desc in cursor.description]\n",
    "\n",
    "column_widths = [max(len(str(record[i])) for record in records) for i in range(len(columns))]\n",
    "column_widths = [max(len(columns[i]), column_widths[i]) for i in range(len(columns))]  # Include header lengths\n",
    "\n",
    "header = \" | \".join([columns[i].ljust(column_widths[i]) for i in range(len(columns))])\n",
    "separator = \"-\" * len(header)\n",
    "\n",
    "print(header)  \n",
    "print(separator)  \n",
    "\n",
    "for record in records:\n",
    "    formatted_record = \" | \".join([str(record[i]).ljust(column_widths[i]) if record[i] is not None else \"None\".ljust(column_widths[i]) for i in range(len(record))])\n",
    "    print(formatted_record)"
   ]
  },
  {
   "cell_type": "code",
   "execution_count": 99,
   "metadata": {},
   "outputs": [],
   "source": [
    "cursor.close()"
   ]
  },
  {
   "cell_type": "markdown",
   "metadata": {},
   "source": [
    "### Connecting DBeaver to Azure PostgreSQL - Flexible Server\n",
    "\n",
    "### Steps:\n",
    "1. **Open DBeaver:** Launch the application.  \n",
    "2. **New Connection:** Click \"New Database Connection\" or navigate to `Database > New Database Connection`.  \n",
    "3. **Select PostgreSQL:** Choose \"PostgreSQL\" and click **Next**.  \n",
    "4. **Configure Connection:**  \n",
    "   - **Host:** `dbserverpg.postgres.database.azure.com`  \n",
    "   - **Port:** `5432` (default) or `6432` (for PgBouncer)  \n",
    "   - **Database:** Enter the target database (default: `postgres`)  \n",
    "   - **Username:** `aariz`  \n",
    "   - **Password:** Enter the admin password (check \"Save password locally\" if desired)  \n",
    "5. **Advanced Settings:**  \n",
    "   - Go to the **PostgreSQL** tab.  \n",
    "   - Check **Show all databases** to display all databases.  \n",
    "6. **Test Connection:** Click **Test Connection** to verify. Install drivers if prompted.  \n",
    "7. **Finish:** Click **Finish** to save the connection.  \n",
    "8. **Access Database:** Expand the server in the **Database Navigator** to browse and manage data.  \n",
    "\n",
    "> **Note:** Ensure your client IP is allowed in Azure PostgreSQL firewall settings via the Azure portal under **Networking**.\n"
   ]
  }
 ],
 "metadata": {
  "kernelspec": {
   "display_name": "Python 3",
   "language": "python",
   "name": "python3"
  },
  "language_info": {
   "codemirror_mode": {
    "name": "ipython",
    "version": 3
   },
   "file_extension": ".py",
   "mimetype": "text/x-python",
   "name": "python",
   "nbconvert_exporter": "python",
   "pygments_lexer": "ipython3",
   "version": "3.13.1"
  }
 },
 "nbformat": 4,
 "nbformat_minor": 2
}
